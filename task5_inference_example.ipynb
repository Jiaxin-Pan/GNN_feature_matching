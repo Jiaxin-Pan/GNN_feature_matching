{
 "cells": [
  {
   "cell_type": "markdown",
   "metadata": {},
   "source": [
    "## 1. Import Dataset"
   ]
  },
  {
   "cell_type": "code",
   "execution_count": 1,
   "metadata": {},
   "outputs": [
    {
     "name": "stdout",
     "output_type": "stream",
     "text": [
      "312\n"
     ]
    }
   ],
   "source": [
    "from torch_geometric.datasets import ShapeNet\n",
    "\n",
    "ShapeNetdataset = ShapeNet(root='/home/melina/ShapeNet', categories=['Knife'])\n",
    "print(len(ShapeNetdataset))"
   ]
  },
  {
   "cell_type": "markdown",
   "metadata": {},
   "source": [
    "## 2. Test with inference.py"
   ]
  },
  {
   "cell_type": "code",
   "execution_count": 9,
   "metadata": {},
   "outputs": [
    {
     "name": "stdout",
     "output_type": "stream",
     "text": [
      "Argmin accuracy: 61.6%\n",
      "Hungarian accuracy: 88.0%\n",
      "piecked_row [ 71 105  93  88   1  81]\n",
      "picked_col [ 71 105  93  88   1  81]\n",
      "100.0% of randomly chosen points are matched correctly\n"
     ]
    }
   ],
   "source": [
    "from inference import GetMatching\n",
    "data_test = ShapeNetdataset[264+10] #(0-264 for training)\n",
    "inference = GetMatching()\n",
    "# which_model = 'GraphUNET' / 'EdgeModel' / 'PPFModel'\n",
    "pcd1, pcd2 = inference(data_test, which_model = 'PPFModel')"
   ]
  },
  {
   "cell_type": "code",
   "execution_count": 3,
   "metadata": {},
   "outputs": [],
   "source": [
    "import open3d as o3d\n",
    "#visualize the 3d point clouds\n",
    "o3d.visualization.draw_geometries([pcd1])\n",
    "o3d.visualization.draw_geometries([pcd2])"
   ]
  },
  {
   "cell_type": "code",
   "execution_count": 4,
   "metadata": {},
   "outputs": [
    {
     "data": {
      "text/plain": [
       "True"
      ]
     },
     "execution_count": 4,
     "metadata": {},
     "output_type": "execute_result"
    }
   ],
   "source": [
    "#save the 3d point clouds\n",
    "o3d.io.write_point_cloud(\"point_clouds/pc_test_1.ply\", pcd1)\n",
    "o3d.io.write_point_cloud(\"point_clouds/pc_test_2.ply\", pcd2)"
   ]
  },
  {
   "cell_type": "code",
   "execution_count": null,
   "metadata": {},
   "outputs": [],
   "source": []
  }
 ],
 "metadata": {
  "kernelspec": {
   "display_name": "Python 3",
   "language": "python",
   "name": "python3"
  },
  "language_info": {
   "codemirror_mode": {
    "name": "ipython",
    "version": 3
   },
   "file_extension": ".py",
   "mimetype": "text/x-python",
   "name": "python",
   "nbconvert_exporter": "python",
   "pygments_lexer": "ipython3",
   "version": "3.7.9"
  }
 },
 "nbformat": 4,
 "nbformat_minor": 4
}
